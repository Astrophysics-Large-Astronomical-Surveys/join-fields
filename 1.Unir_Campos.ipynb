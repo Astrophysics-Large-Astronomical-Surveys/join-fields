{
 "cells": [
  {
   "cell_type": "markdown",
   "id": "9305c64f-848a-4816-bb53-946904ca0ec0",
   "metadata": {},
   "source": [
    "# Unir campos y enmascarar las estrellas\n",
    "\n",
    "Para unir dos campos contiguos se puede usar: 1. la informacion del WCS, 2. las coordenadas de estrellas compartidas"
   ]
  },
  {
   "cell_type": "code",
   "execution_count": 3,
   "id": "f82ab1f4-fb36-4246-85e3-bb0ea6c877bb",
   "metadata": {},
   "outputs": [],
   "source": [
    "from reproject.mosaicking import find_optimal_celestial_wcs\n",
    "from reproject.mosaicking import reproject_and_coadd\n",
    "from reproject import reproject_interp, reproject_exact\n",
    "\n",
    "from astropy.coordinates import SkyCoord\n",
    "from astropy.nddata import Cutout2D\n",
    "from astropy.wcs import WCS\n",
    "from astropy.io import fits\n",
    "import astropy.units as u\n",
    "\n",
    "import pandas as pd\n",
    "import numpy as np\n",
    "import glob\n",
    "import os\n",
    "\n",
    "bands = [ 'R', 'G', 'I', 'U', 'Z', 'F378', 'F395', 'F410', 'F430', 'F515', 'F660', 'F861' ]\n",
    "home = '/home/jpcalderon/2023/Fornax/notebooks/UDGs+GCs/'\n",
    "fits_dir = home + 'fits/'\n",
    "outs_dir = home + 'output/'\n",
    "\n",
    "for folder in [ fits_dir, outs_dir ]:\n",
    "    if not os.path.exists(folder):\n",
    "        os.makedirs(folder)"
   ]
  },
  {
   "cell_type": "code",
   "execution_count": 35,
   "id": "b7a96707-21aa-491a-a85a-35d827b95ef5",
   "metadata": {},
   "outputs": [
    {
     "name": "stdout",
     "output_type": "stream",
     "text": [
      "You have access to internal data\n"
     ]
    }
   ],
   "source": [
    "import splusdata\n",
    "conn = splusdata.connect ( 'juanpablocalderon', 'choco134' ) "
   ]
  },
  {
   "cell_type": "code",
   "execution_count": 44,
   "id": "f843a25a-6dc9-4d73-b4ca-3481168eb0f4",
   "metadata": {},
   "outputs": [
    {
     "name": "stdout",
     "output_type": "stream",
     "text": [
      "[*] Proccesing SPLUS-s27s34\n",
      "[**] Downloaded! /home/jpcalderon/2023/Fornax/notebooks/UDGs+GCs/fits/SPLUS-s27s34_G_swp.fits\n",
      "[*] Proccesing SPLUS-s27s33\n",
      "[**] Downloaded! /home/jpcalderon/2023/Fornax/notebooks/UDGs+GCs/fits/SPLUS-s27s33_G_swp.fits\n",
      "[*] Proccesing SPLUS-s28s33\n",
      "[**] Downloading... /home/jpcalderon/2023/Fornax/notebooks/UDGs+GCs/fits/SPLUS-s28s33_G_swp.fits\n",
      "[*] Proccesing SPLUS-s28s34\n",
      "[**] Downloading... /home/jpcalderon/2023/Fornax/notebooks/UDGs+GCs/fits/SPLUS-s28s34_G_swp.fits\n",
      "[*] Proccesing SPLUS-s27s35\n",
      "[**] Downloading... /home/jpcalderon/2023/Fornax/notebooks/UDGs+GCs/fits/SPLUS-s27s35_G_swp.fits\n",
      "[*] Done!\n"
     ]
    }
   ],
   "source": [
    "fields =  [ 'SPLUS-s27s34', 'SPLUS-s27s33', 'SPLUS-s28s33', 'SPLUS-s28s34', 'SPLUS-s27s35' ]\n",
    "\n",
    "for field in fields:\n",
    "    print ( \"[*] Proccesing \" + field )\n",
    "    for band in ['G']:#bands:\n",
    "        image = fits_dir + field + '_' + band + '_swp.fits'\n",
    "        if not os.path.exists(image):\n",
    "            try:\n",
    "                print ( \"[**] Downloading... \" + image )\n",
    "                hdu = conn.get_field ( field, band )\n",
    "            except Exception:\n",
    "                print ( \"[!!] Error while download: \" + image ) \n",
    "                pass  # or you could use 'continue'\n",
    "            else:\n",
    "                fits.writeto ( image, data = hdu[1].data, header = hdu[1].header, overwrite = True )\n",
    "        else:\n",
    "            print ( \"[**] Downloaded! \" + image )\n",
    "print ( \"[*] Done!\" )"
   ]
  },
  {
   "cell_type": "code",
   "execution_count": 47,
   "id": "814b3304-7409-410d-9b36-8af69f9aa5fa",
   "metadata": {},
   "outputs": [
    {
     "name": "stdout",
     "output_type": "stream",
     "text": [
      "[*] Proccesing G\n"
     ]
    },
    {
     "name": "stderr",
     "output_type": "stream",
     "text": [
      "WARNING: FITSFixedWarning: 'datfix' made the change 'Set DATE-OBS to '2018-10-18' from MJD-OBS'. [astropy.wcs.wcs]\n",
      "WARNING: FITSFixedWarning: 'datfix' made the change 'Set DATE-OBS to '2018-12-16' from MJD-OBS'. [astropy.wcs.wcs]\n",
      "WARNING: FITSFixedWarning: 'datfix' made the change 'Set DATE-OBS to '2018-10-17' from MJD-OBS'. [astropy.wcs.wcs]\n",
      "WARNING: FITSFixedWarning: 'datfix' made the change 'Set DATE-OBS to '2018-10-19' from MJD-OBS'. [astropy.wcs.wcs]\n",
      "WARNING: FITSFixedWarning: 'datfix' made the change 'Set DATE-OBS to '2018-12-27' from MJD-OBS'. [astropy.wcs.wcs]\n"
     ]
    },
    {
     "ename": "NameError",
     "evalue": "name 'reproject_adaptive' is not defined",
     "output_type": "error",
     "traceback": [
      "\u001b[0;31m---------------------------------------------------------------------------\u001b[0m",
      "\u001b[0;31mNameError\u001b[0m                                 Traceback (most recent call last)",
      "\u001b[0;32m/tmp/ipykernel_9457/786373571.py\u001b[0m in \u001b[0;36m<module>\u001b[0;34m\u001b[0m\n\u001b[1;32m      5\u001b[0m     \u001b[0mwcs_out\u001b[0m\u001b[0;34m,\u001b[0m \u001b[0mshape_out\u001b[0m \u001b[0;34m=\u001b[0m \u001b[0mfind_optimal_celestial_wcs\u001b[0m \u001b[0;34m(\u001b[0m \u001b[0mimages\u001b[0m \u001b[0;34m)\u001b[0m\u001b[0;34m\u001b[0m\u001b[0;34m\u001b[0m\u001b[0m\n\u001b[1;32m      6\u001b[0m     array, footprint = reproject_and_coadd ( images, wcs_out, shape_out = shape_out, input_weights = None, \n\u001b[0;32m----> 7\u001b[0;31m                                             \u001b[0mhdu_in\u001b[0m \u001b[0;34m=\u001b[0m \u001b[0;32mNone\u001b[0m\u001b[0;34m,\u001b[0m \u001b[0mreproject_function\u001b[0m \u001b[0;34m=\u001b[0m \u001b[0mreproject_adaptive\u001b[0m\u001b[0;34m,\u001b[0m \u001b[0mhdu_weights\u001b[0m \u001b[0;34m=\u001b[0m \u001b[0;32mNone\u001b[0m\u001b[0;34m,\u001b[0m\u001b[0;34m\u001b[0m\u001b[0;34m\u001b[0m\u001b[0m\n\u001b[0m\u001b[1;32m      8\u001b[0m                                             \u001b[0mcombine_function\u001b[0m \u001b[0;34m=\u001b[0m \u001b[0;34m'mean'\u001b[0m\u001b[0;34m,\u001b[0m \u001b[0mmatch_background\u001b[0m \u001b[0;34m=\u001b[0m \u001b[0;32mFalse\u001b[0m\u001b[0;34m,\u001b[0m\u001b[0;34m\u001b[0m\u001b[0;34m\u001b[0m\u001b[0m\n\u001b[1;32m      9\u001b[0m                                             background_reference = None )\n",
      "\u001b[0;31mNameError\u001b[0m: name 'reproject_adaptive' is not defined"
     ]
    }
   ],
   "source": [
    "for band in [ 'G' ]:\n",
    "    print ( \"[*] Proccesing \" +  band )\n",
    "    images =  [ fits.open(fits_dir + field + '_' + band + '_swp.fits') for field in fields ]\n",
    "\n",
    "    wcs_out, shape_out = find_optimal_celestial_wcs ( images )\n",
    "    array, footprint = reproject_and_coadd ( images, wcs_out, shape_out = shape_out, input_weights = None, \n",
    "                                            hdu_in = None, reproject_function = reproject_adaptive, hdu_weights = None, \n",
    "                                            combine_function = 'mean', match_background = False, \n",
    "                                            background_reference = None )\n",
    "    \n",
    "    file = outs_dir + 'SPLUS-' + band + '_v2.fits'\n",
    "    \n",
    "    print ( \"[*] Writing file: \" + file )\n",
    "    fits.writeto ( file, array, wcs_out.to_header(), overwrite = True )\n",
    "print ( \"[*] Done!\" )"
   ]
  },
  {
   "cell_type": "code",
   "execution_count": 55,
   "id": "e9202c31-b81c-439e-898c-5baacd1d98ce",
   "metadata": {},
   "outputs": [
    {
     "name": "stdout",
     "output_type": "stream",
     "text": [
      "Python 3.7.12 | packaged by conda-forge | (default, Oct 26 2021, 06:08:53) \n",
      "[GCC 9.4.0] on linux\n",
      "Type \"help\", \"copyright\", \"credits\" or \"license\" for more information.\n",
      "\u001b[?2004h>>> \n",
      "Traceback (most recent call last):\n",
      "  File \"<stdin>\", line 1, in <module>\n",
      "KeyboardInterrupt\n",
      "\u001b[?2004h>>> "
     ]
    }
   ],
   "source": [
    "!python"
   ]
  },
  {
   "cell_type": "code",
   "execution_count": 56,
   "id": "d59df1c8-2ae8-4438-af9e-7c72a337714d",
   "metadata": {},
   "outputs": [
    {
     "name": "stdout",
     "output_type": "stream",
     "text": [
      "[*] Proccesing G\n"
     ]
    },
    {
     "name": "stderr",
     "output_type": "stream",
     "text": [
      "WARNING: FITSFixedWarning: 'datfix' made the change 'Set DATE-OBS to '2018-10-18' from MJD-OBS'. [astropy.wcs.wcs]\n",
      "WARNING: FITSFixedWarning: 'datfix' made the change 'Set DATE-OBS to '2018-12-16' from MJD-OBS'. [astropy.wcs.wcs]\n",
      "WARNING: FITSFixedWarning: 'datfix' made the change 'Set DATE-OBS to '2018-10-17' from MJD-OBS'. [astropy.wcs.wcs]\n",
      "WARNING: FITSFixedWarning: 'datfix' made the change 'Set DATE-OBS to '2018-10-19' from MJD-OBS'. [astropy.wcs.wcs]\n",
      "WARNING: FITSFixedWarning: 'datfix' made the change 'Set DATE-OBS to '2018-12-27' from MJD-OBS'. [astropy.wcs.wcs]\n",
      "WARNING: FITSFixedWarning: 'datfix' made the change 'Set DATE-OBS to '2018-10-18' from MJD-OBS'. [astropy.wcs.wcs]\n",
      "WARNING: FITSFixedWarning: 'datfix' made the change 'Set DATE-OBS to '2018-12-16' from MJD-OBS'. [astropy.wcs.wcs]\n",
      "WARNING: FITSFixedWarning: 'datfix' made the change 'Set DATE-OBS to '2018-10-17' from MJD-OBS'. [astropy.wcs.wcs]\n",
      "WARNING: FITSFixedWarning: 'datfix' made the change 'Set DATE-OBS to '2018-10-19' from MJD-OBS'. [astropy.wcs.wcs]\n",
      "WARNING: FITSFixedWarning: 'datfix' made the change 'Set DATE-OBS to '2018-12-27' from MJD-OBS'. [astropy.wcs.wcs]\n"
     ]
    },
    {
     "name": "stdout",
     "output_type": "stream",
     "text": [
      "[*] Writing file: /home/jpcalderon/2023/Fornax/notebooks/UDGs+GCs/output/SPLUS-G_v3.fits\n",
      "[*] Done!\n"
     ]
    }
   ],
   "source": [
    "for band in [ 'G' ]:\n",
    "    print ( \"[*] Proccesing \" +  band )\n",
    "    images =  [ fits.open(fits_dir + field + '_' + band + '_swp.fits') for field in fields ]\n",
    "\n",
    "    wcs_out, shape_out = find_optimal_celestial_wcs ( images )\n",
    "    array, footprint = reproject_and_coadd ( images, wcs_out, shape_out = shape_out, input_weights = None, \n",
    "                                            hdu_in = None, reproject_function = reproject_exact, hdu_weights = None, \n",
    "                                            combine_function = 'mean', match_background = False, \n",
    "                                            background_reference = None )\n",
    "    \n",
    "    file = outs_dir + 'SPLUS-' + band + '_v3.fits'\n",
    "    \n",
    "    print ( \"[*] Writing file: \" + file )\n",
    "    fits.writeto ( file, array, wcs_out.to_header(), overwrite = True )\n",
    "print ( \"[*] Done!\" )"
   ]
  },
  {
   "cell_type": "code",
   "execution_count": 57,
   "id": "b9e3fde9-e60e-4fb2-9ecd-159b0cf6e0b5",
   "metadata": {},
   "outputs": [
    {
     "name": "stdout",
     "output_type": "stream",
     "text": [
      "[*] Proccesing G\n"
     ]
    },
    {
     "name": "stderr",
     "output_type": "stream",
     "text": [
      "WARNING: FITSFixedWarning: 'datfix' made the change 'Set DATE-OBS to '2018-10-18' from MJD-OBS'. [astropy.wcs.wcs]\n",
      "WARNING: FITSFixedWarning: 'datfix' made the change 'Set DATE-OBS to '2018-12-16' from MJD-OBS'. [astropy.wcs.wcs]\n",
      "WARNING: FITSFixedWarning: 'datfix' made the change 'Set DATE-OBS to '2018-10-17' from MJD-OBS'. [astropy.wcs.wcs]\n",
      "WARNING: FITSFixedWarning: 'datfix' made the change 'Set DATE-OBS to '2018-10-19' from MJD-OBS'. [astropy.wcs.wcs]\n",
      "WARNING: FITSFixedWarning: 'datfix' made the change 'Set DATE-OBS to '2018-12-27' from MJD-OBS'. [astropy.wcs.wcs]\n",
      "WARNING: FITSFixedWarning: 'datfix' made the change 'Set DATE-OBS to '2018-10-18' from MJD-OBS'. [astropy.wcs.wcs]\n",
      "WARNING: FITSFixedWarning: 'datfix' made the change 'Set DATE-OBS to '2018-12-16' from MJD-OBS'. [astropy.wcs.wcs]\n",
      "WARNING: FITSFixedWarning: 'datfix' made the change 'Set DATE-OBS to '2018-10-17' from MJD-OBS'. [astropy.wcs.wcs]\n",
      "WARNING: FITSFixedWarning: 'datfix' made the change 'Set DATE-OBS to '2018-10-19' from MJD-OBS'. [astropy.wcs.wcs]\n",
      "WARNING: FITSFixedWarning: 'datfix' made the change 'Set DATE-OBS to '2018-12-27' from MJD-OBS'. [astropy.wcs.wcs]\n"
     ]
    },
    {
     "name": "stdout",
     "output_type": "stream",
     "text": [
      "[*] Writing file: /home/jpcalderon/2023/Fornax/notebooks/UDGs+GCs/output/SPLUS-G_v4.fits\n",
      "[*] Done!\n"
     ]
    }
   ],
   "source": [
    "for band in [ 'G' ]:\n",
    "    print ( \"[*] Proccesing \" +  band )\n",
    "    images =  [ fits.open(fits_dir + field + '_' + band + '_swp.fits') for field in fields ]\n",
    "\n",
    "    wcs_out, shape_out = find_optimal_celestial_wcs ( images )\n",
    "    array, footprint = reproject_and_coadd ( images, wcs_out, shape_out = shape_out, input_weights = None, \n",
    "                                            hdu_in = None, reproject_function = reproject_interp, hdu_weights = None, \n",
    "                                            combine_function = 'mean', match_background = False, \n",
    "                                            background_reference = None )\n",
    "    \n",
    "    file = outs_dir + 'SPLUS-' + band + '_v4.fits'\n",
    "    \n",
    "    print ( \"[*] Writing file: \" + file )\n",
    "    fits.writeto ( file, array, wcs_out.to_header(), overwrite = True )\n",
    "print ( \"[*] Done!\" )"
   ]
  },
  {
   "cell_type": "code",
   "execution_count": null,
   "id": "888a2a4c-470c-4b0c-809c-0040a34ec1c6",
   "metadata": {},
   "outputs": [],
   "source": []
  }
 ],
 "metadata": {
  "kernelspec": {
   "display_name": "Python 3 (ipykernel)",
   "language": "python",
   "name": "python3"
  },
  "language_info": {
   "codemirror_mode": {
    "name": "ipython",
    "version": 3
   },
   "file_extension": ".py",
   "mimetype": "text/x-python",
   "name": "python",
   "nbconvert_exporter": "python",
   "pygments_lexer": "ipython3",
   "version": "3.7.12"
  }
 },
 "nbformat": 4,
 "nbformat_minor": 5
}
