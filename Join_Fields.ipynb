{
 "cells": [
  {
   "cell_type": "markdown",
   "id": "9305c64f-848a-4816-bb53-946904ca0ec0",
   "metadata": {},
   "source": [
    "# Join Fields using their WCS"
   ]
  },
  {
   "cell_type": "code",
   "execution_count": 1,
   "id": "f82ab1f4-fb36-4246-85e3-bb0ea6c877bb",
   "metadata": {},
   "outputs": [],
   "source": [
    "from reproject.mosaicking import find_optimal_celestial_wcs\n",
    "from reproject.mosaicking import reproject_and_coadd\n",
    "from reproject import reproject_interp, reproject_exact\n",
    "\n",
    "from astropy.coordinates import SkyCoord\n",
    "from astropy.nddata import Cutout2D\n",
    "from astropy.wcs import WCS\n",
    "from astropy.io import fits\n",
    "import astropy.units as u\n",
    "\n",
    "import pandas as pd\n",
    "import numpy as np\n",
    "import glob\n",
    "import os\n",
    "\n",
    "bands = [ 'R', 'G', 'I', 'U', 'Z', 'F378', 'F395', 'F410', 'F430', 'F515', 'F660', 'F861' ]\n",
    "home = '/home/jpcalderon/2023/Fornax/notebooks/UDGs+GCs/'\n",
    "fits_dir = home + 'fits/'\n",
    "outs_dir = home + 'output/'\n",
    "\n",
    "for folder in [ fits_dir, outs_dir ]:\n",
    "    if not os.path.exists(folder):\n",
    "        os.makedirs(folder)"
   ]
  },
  {
   "cell_type": "code",
   "execution_count": 2,
   "id": "814b3304-7409-410d-9b36-8af69f9aa5fa",
   "metadata": {},
   "outputs": [
    {
     "name": "stdout",
     "output_type": "stream",
     "text": [
      "[*] Proccesing G\n"
     ]
    },
    {
     "name": "stderr",
     "output_type": "stream",
     "text": [
      "WARNING: FITSFixedWarning: 'datfix' made the change 'Set DATE-OBS to '2018-10-18' from MJD-OBS'. [astropy.wcs.wcs]\n",
      "WARNING: FITSFixedWarning: 'datfix' made the change 'Set DATE-OBS to '2018-12-16' from MJD-OBS'. [astropy.wcs.wcs]\n",
      "WARNING: FITSFixedWarning: 'datfix' made the change 'Set DATE-OBS to '2018-10-18' from MJD-OBS'. [astropy.wcs.wcs]\n",
      "WARNING: FITSFixedWarning: 'datfix' made the change 'Set DATE-OBS to '2018-12-16' from MJD-OBS'. [astropy.wcs.wcs]\n"
     ]
    },
    {
     "name": "stdout",
     "output_type": "stream",
     "text": [
      "[*] Writing file: /home/jpcalderon/2023/Fornax/notebooks/UDGs+GCs/output/SPLUS-G_v.fits\n",
      "[*] Done!\n"
     ]
    }
   ],
   "source": [
    "fields =  [ 'SPLUS-s27s34', 'SPLUS-s27s33' ] #, 'SPLUS-s28s33', 'SPLUS-s28s34', 'SPLUS-s27s35' ]\n",
    "\n",
    "for band in [ 'G' ]:\n",
    "    print ( \"[*] Proccesing \" +  band )\n",
    "    images =  [ fits.open(fits_dir + field + '_' + band + '_swp.fits') for field in fields ]\n",
    "\n",
    "    wcs_out, shape_out = find_optimal_celestial_wcs ( images )\n",
    "    array, footprint = reproject_and_coadd ( images, wcs_out, shape_out = shape_out, input_weights = None, \n",
    "                                            hdu_in = None, reproject_function = reproject_interp, hdu_weights = None, \n",
    "                                            combine_function = 'mean', match_background = False, \n",
    "                                            background_reference = None )\n",
    "    \n",
    "    file = outs_dir + 'SPLUS-' + band + '_v.fits'\n",
    "    \n",
    "    print ( \"[*] Writing file: \" + file )\n",
    "    fits.writeto ( file, array, wcs_out.to_header(), overwrite = True )\n",
    "print ( \"[*] Done!\" )"
   ]
  },
  {
   "cell_type": "markdown",
   "id": "911d6aed-7436-49a2-9043-005d17392aef",
   "metadata": {},
   "source": [
    "There are other options for the reproject_function variable. See the manual for reproject_and_coadd: https://reproject.readthedocs.io/en/stable/index.html"
   ]
  },
  {
   "cell_type": "code",
   "execution_count": 3,
   "id": "32fe2f17-a4c9-47a9-9748-85550fcc55d3",
   "metadata": {},
   "outputs": [
    {
     "data": {
      "text/plain": [
       "Text(0.5, 1.0, 'Footprint')"
      ]
     },
     "execution_count": 3,
     "metadata": {},
     "output_type": "execute_result"
    },
    {
     "data": {
      "image/png": "[encoded data removed]",
      "text/plain": [
       "<Figure size 1000x800 with 2 Axes>"
      ]
     },
     "metadata": {},
     "output_type": "display_data"
    }
   ],
   "source": [
    "import numpy as np\n",
    "import matplotlib.pyplot as plt\n",
    "\n",
    "plt.figure(figsize=(10, 8))\n",
    "ax1 = plt.subplot(1, 2, 1)\n",
    "im1 = ax1.imshow(array, origin='lower', vmin=600, vmax=800)\n",
    "ax1.set_title('Mosaic')\n",
    "ax2 = plt.subplot(1, 2, 2)\n",
    "im2 = ax2.imshow(footprint, origin='lower')\n",
    "ax2.set_title('Footprint')"
   ]
  }
 ],
 "metadata": {
  "kernelspec": {
   "display_name": "Python 3 (ipykernel)",
   "language": "python",
   "name": "python3"
  },
  "language_info": {
   "codemirror_mode": {
    "name": "ipython",
    "version": 3
   },
   "file_extension": ".py",
   "mimetype": "text/x-python",
   "name": "python",
   "nbconvert_exporter": "python",
   "pygments_lexer": "ipython3",
   "version": "3.7.12"
  }
 },
 "nbformat": 4,
 "nbformat_minor": 5
}
